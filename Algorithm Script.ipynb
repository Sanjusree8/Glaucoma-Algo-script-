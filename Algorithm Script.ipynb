{
 "cells": [
  {
   "cell_type": "code",
   "execution_count": 3,
   "metadata": {},
   "outputs": [],
   "source": [
    "from keras.preprocessing.image import ImageDataGenerator, array_to_img, img_to_array, load_img\n",
    "from keras.models import Sequential\n",
    "from keras.layers import Conv2D, MaxPooling2D\n",
    "from keras.layers import Activation, Dropout, Flatten, Dense\n",
    "from keras.preprocessing import image\n",
    "import numpy as np\n",
    "from keras import backend as K"
   ]
  },
  {
   "cell_type": "code",
   "execution_count": 4,
   "metadata": {},
   "outputs": [],
   "source": [
    "img_width, img_height = 150, 150\n",
    "train_dir = 'train'\n",
    "validation_data_dir = 'test'\n",
    "nb_train_sample = 1000\n",
    "nb_validation_sample = 100\n",
    "epochs = 12\n",
    "batch_size = 20"
   ]
  },
  {
   "cell_type": "code",
   "execution_count": 5,
   "metadata": {},
   "outputs": [],
   "source": [
    "# MODEL\n",
    "if K.image_data_format() == 'channels_first':\n",
    "    input_shape = (3,img_height,img_width)\n",
    "else:\n",
    "    input_shape = (img_height,img_width,3)\n"
   ]
  },
  {
   "cell_type": "code",
   "execution_count": 6,
   "metadata": {},
   "outputs": [],
   "source": [
    "train_datagen = ImageDataGenerator(rescale = 1. /255,\n",
    "                                  shear_range = 0.2,\n",
    "                                  zoom_range=0.2,\n",
    "                                  horizontal_flip=True)"
   ]
  },
  {
   "cell_type": "code",
   "execution_count": 7,
   "metadata": {},
   "outputs": [],
   "source": [
    "test_datagen = ImageDataGenerator(rescale=1./255)"
   ]
  },
  {
   "cell_type": "code",
   "execution_count": 8,
   "metadata": {},
   "outputs": [
    {
     "name": "stdout",
     "output_type": "stream",
     "text": [
      "Found 80 images belonging to 2 classes.\n"
     ]
    }
   ],
   "source": [
    "train_generator = train_datagen.flow_from_directory(train_dir,target_size=(img_width,img_height),\n",
    "                                                   batch_size=batch_size,class_mode='binary')"
   ]
  },
  {
   "cell_type": "code",
   "execution_count": 9,
   "metadata": {},
   "outputs": [
    {
     "name": "stdout",
     "output_type": "stream",
     "text": [
      "Found 10 images belonging to 2 classes.\n"
     ]
    }
   ],
   "source": [
    "validation_generator = test_datagen.flow_from_directory(validation_data_dir,target_size=(img_width,img_height),\n",
    "                                                   batch_size=batch_size,class_mode='binary')"
   ]
  },
  {
   "cell_type": "code",
   "execution_count": null,
   "metadata": {},
   "outputs": [],
   "source": []
  },
  {
   "cell_type": "code",
   "execution_count": 10,
   "metadata": {},
   "outputs": [
    {
     "name": "stderr",
     "output_type": "stream",
     "text": [
      "WARNING: Logging before flag parsing goes to stderr.\n",
      "W1203 12:45:09.302756 15844 deprecation_wrapper.py:119] From c:\\users\\bachittarjeet_singh\\appdata\\local\\programs\\python\\python37\\lib\\site-packages\\keras\\backend\\tensorflow_backend.py:74: The name tf.get_default_graph is deprecated. Please use tf.compat.v1.get_default_graph instead.\n",
      "\n",
      "W1203 12:45:09.320758 15844 deprecation_wrapper.py:119] From c:\\users\\bachittarjeet_singh\\appdata\\local\\programs\\python\\python37\\lib\\site-packages\\keras\\backend\\tensorflow_backend.py:517: The name tf.placeholder is deprecated. Please use tf.compat.v1.placeholder instead.\n",
      "\n",
      "W1203 12:45:09.324758 15844 deprecation_wrapper.py:119] From c:\\users\\bachittarjeet_singh\\appdata\\local\\programs\\python\\python37\\lib\\site-packages\\keras\\backend\\tensorflow_backend.py:4138: The name tf.random_uniform is deprecated. Please use tf.random.uniform instead.\n",
      "\n",
      "W1203 12:45:09.349758 15844 deprecation_wrapper.py:119] From c:\\users\\bachittarjeet_singh\\appdata\\local\\programs\\python\\python37\\lib\\site-packages\\keras\\backend\\tensorflow_backend.py:3976: The name tf.nn.max_pool is deprecated. Please use tf.nn.max_pool2d instead.\n",
      "\n"
     ]
    }
   ],
   "source": [
    "model = Sequential();\n",
    "model.add(Conv2D(32, (3, 3), input_shape=input_shape));\n",
    "model.add(Activation('relu'));\n",
    "model.add(MaxPooling2D(pool_size=(2, 2)));\n",
    "#model.summary()"
   ]
  },
  {
   "cell_type": "code",
   "execution_count": 11,
   "metadata": {},
   "outputs": [],
   "source": [
    "model.add(Conv2D(32, (3, 3)));\n",
    "model.add(Activation('relu'));\n",
    "model.add(MaxPooling2D(pool_size=(2, 2)));"
   ]
  },
  {
   "cell_type": "code",
   "execution_count": 12,
   "metadata": {},
   "outputs": [],
   "source": [
    "model.add(Conv2D(64, (3, 3)));\n",
    "model.add(Activation('relu'));\n",
    "model.add(MaxPooling2D(pool_size=(2, 2)));"
   ]
  },
  {
   "cell_type": "code",
   "execution_count": 13,
   "metadata": {},
   "outputs": [
    {
     "name": "stderr",
     "output_type": "stream",
     "text": [
      "W1203 12:45:10.608270 15844 deprecation_wrapper.py:119] From c:\\users\\bachittarjeet_singh\\appdata\\local\\programs\\python\\python37\\lib\\site-packages\\keras\\backend\\tensorflow_backend.py:133: The name tf.placeholder_with_default is deprecated. Please use tf.compat.v1.placeholder_with_default instead.\n",
      "\n",
      "W1203 12:45:10.614262 15844 deprecation.py:506] From c:\\users\\bachittarjeet_singh\\appdata\\local\\programs\\python\\python37\\lib\\site-packages\\keras\\backend\\tensorflow_backend.py:3445: calling dropout (from tensorflow.python.ops.nn_ops) with keep_prob is deprecated and will be removed in a future version.\n",
      "Instructions for updating:\n",
      "Please use `rate` instead of `keep_prob`. Rate should be set to `rate = 1 - keep_prob`.\n"
     ]
    }
   ],
   "source": [
    "model.add(Flatten());\n",
    "model.add(Dense(64));\n",
    "model.add(Activation('relu'));\n",
    "model.add(Dropout(0.5));\n",
    "model.add(Dense(1));\n",
    "model.add(Activation('sigmoid'));"
   ]
  },
  {
   "cell_type": "code",
   "execution_count": 14,
   "metadata": {},
   "outputs": [],
   "source": [
    "#model.summary()"
   ]
  },
  {
   "cell_type": "code",
   "execution_count": 15,
   "metadata": {},
   "outputs": [
    {
     "name": "stderr",
     "output_type": "stream",
     "text": [
      "W1203 12:45:11.726028 15844 deprecation_wrapper.py:119] From c:\\users\\bachittarjeet_singh\\appdata\\local\\programs\\python\\python37\\lib\\site-packages\\keras\\optimizers.py:790: The name tf.train.Optimizer is deprecated. Please use tf.compat.v1.train.Optimizer instead.\n",
      "\n",
      "W1203 12:45:11.745033 15844 deprecation_wrapper.py:119] From c:\\users\\bachittarjeet_singh\\appdata\\local\\programs\\python\\python37\\lib\\site-packages\\keras\\backend\\tensorflow_backend.py:3376: The name tf.log is deprecated. Please use tf.math.log instead.\n",
      "\n",
      "W1203 12:45:11.752062 15844 deprecation.py:323] From c:\\users\\bachittarjeet_singh\\appdata\\local\\programs\\python\\python37\\lib\\site-packages\\tensorflow\\python\\ops\\nn_impl.py:180: add_dispatch_support.<locals>.wrapper (from tensorflow.python.ops.array_ops) is deprecated and will be removed in a future version.\n",
      "Instructions for updating:\n",
      "Use tf.where in 2.0, which has the same broadcast rule as np.where\n"
     ]
    }
   ],
   "source": [
    "model.compile(loss='binary_crossentropy',\n",
    "              optimizer='rmsprop',\n",
    "              metrics = ['accuracy']);"
   ]
  },
  {
   "cell_type": "code",
   "execution_count": 16,
   "metadata": {},
   "outputs": [
    {
     "name": "stdout",
     "output_type": "stream",
     "text": [
      "Epoch 1/12\n",
      "50/50 [==============================] - 16s 320ms/step - loss: 0.4143 - acc: 0.8550 - val_loss: 0.0549 - val_acc: 1.0000\n",
      "Epoch 2/12\n",
      "50/50 [==============================] - 19s 389ms/step - loss: 0.0660 - acc: 0.9780 - val_loss: 0.3240 - val_acc: 0.9000\n",
      "Epoch 3/12\n",
      "50/50 [==============================] - 20s 409ms/step - loss: 0.0360 - acc: 0.9870 - val_loss: 1.2037e-04 - val_acc: 1.0000\n",
      "Epoch 4/12\n",
      "50/50 [==============================] - 22s 441ms/step - loss: 0.0478 - acc: 0.9920 - val_loss: 1.0325e-06 - val_acc: 1.0000\n",
      "Epoch 5/12\n",
      "50/50 [==============================] - 21s 423ms/step - loss: 0.0082 - acc: 0.9980 - val_loss: 3.4671e-05 - val_acc: 1.0000\n",
      "Epoch 6/12\n",
      "50/50 [==============================] - 21s 423ms/step - loss: 4.3271e-04 - acc: 1.0000 - val_loss: 2.3246e-06 - val_acc: 1.0000\n",
      "Epoch 7/12\n",
      "50/50 [==============================] - 21s 414ms/step - loss: 0.3631 - acc: 0.9750 - val_loss: 1.4735e-06 - val_acc: 1.0000\n",
      "Epoch 8/12\n",
      "50/50 [==============================] - 23s 453ms/step - loss: 0.1052 - acc: 0.9930 - val_loss: 1.3537e-07 - val_acc: 1.0000\n",
      "Epoch 9/12\n",
      "50/50 [==============================] - 21s 428ms/step - loss: 6.2202e-04 - acc: 1.0000 - val_loss: 1.3540e-07 - val_acc: 1.0000\n",
      "Epoch 10/12\n",
      "50/50 [==============================] - 21s 424ms/step - loss: 0.0113 - acc: 0.9980 - val_loss: 1.0960e-07 - val_acc: 1.0000\n",
      "Epoch 11/12\n",
      "50/50 [==============================] - 21s 429ms/step - loss: 0.1044 - acc: 0.9920 - val_loss: 2.2013e-07 - val_acc: 1.0000\n",
      "Epoch 12/12\n",
      "50/50 [==============================] - 21s 414ms/step - loss: 0.0015 - acc: 0.9990 - val_loss: 1.4431e-07 - val_acc: 1.0000\n"
     ]
    }
   ],
   "source": [
    "history = model.fit_generator(train_generator,\n",
    "                    steps_per_epoch= nb_train_sample // batch_size,\n",
    "                    epochs=epochs,\n",
    "                    validation_data=validation_generator,\n",
    "                    validation_steps = nb_validation_sample // batch_size);"
   ]
  },
  {
   "cell_type": "code",
   "execution_count": 26,
   "metadata": {},
   "outputs": [],
   "source": [
    "model.save('model2.h5')"
   ]
  },
  {
   "cell_type": "code",
   "execution_count": 22,
   "metadata": {},
   "outputs": [],
   "source": [
    "img_prd = image.load_img('Glaucoma.jpg',target_size=(150,150))\n",
    "img_prd = image.img_to_array(img_prd)\n",
    "img_pred = np.expand_dims(img_prd, axis=0)"
   ]
  },
  {
   "cell_type": "code",
   "execution_count": 23,
   "metadata": {},
   "outputs": [
    {
     "name": "stdout",
     "output_type": "stream",
     "text": [
      "[[0.]]\n"
     ]
    }
   ],
   "source": [
    "result = model.predict(img_pred)\n",
    "print(result)"
   ]
  },
  {
   "cell_type": "code",
   "execution_count": 25,
   "metadata": {},
   "outputs": [
    {
     "name": "stdout",
     "output_type": "stream",
     "text": [
      "[[1.]]\n"
     ]
    }
   ],
   "source": [
    "img_prd = image.load_img('nonGlaucoma.jpeg',target_size=(150,150))\n",
    "img_prd = image.img_to_array(img_prd)\n",
    "img_pred = np.expand_dims(img_prd, axis=0)\n",
    "\n",
    "result = model.predict(img_pred)\n",
    "print(result)"
   ]
  },
  {
   "cell_type": "code",
   "execution_count": null,
   "metadata": {},
   "outputs": [],
   "source": []
  }
 ],
 "metadata": {
  "kernelspec": {
   "display_name": "Python 3",
   "language": "python",
   "name": "python3"
  },
  "language_info": {
   "codemirror_mode": {
    "name": "ipython",
    "version": 3
   },
   "file_extension": ".py",
   "mimetype": "text/x-python",
   "name": "python",
   "nbconvert_exporter": "python",
   "pygments_lexer": "ipython3",
   "version": "3.7.4"
  }
 },
 "nbformat": 4,
 "nbformat_minor": 2
}
